{
 "cells": [
  {
   "cell_type": "code",
   "execution_count": 1,
   "id": "be7fb0e9",
   "metadata": {},
   "outputs": [],
   "source": [
    "import warnings\n",
    "warnings.filterwarnings('ignore')\n",
    "import numpy as np\n",
    "import pandas as pd\n",
    "import matplotlib.pyplot as plt\n",
    "from sklearn.preprocessing import MinMaxScaler\n",
    "from tensorflow.keras.models import Sequential\n",
    "from tensorflow.keras.layers import Dense\n",
    "from tensorflow.keras.layers import LSTM\n",
    "from tensorflow.keras.layers import Dropout"
   ]
  },
  {
   "cell_type": "code",
   "execution_count": 2,
   "id": "23b88ad4",
   "metadata": {},
   "outputs": [],
   "source": [
    "training_data = pd.read_csv('FB_training_data.csv')"
   ]
  },
  {
   "cell_type": "code",
   "execution_count": 3,
   "id": "17a02c25",
   "metadata": {},
   "outputs": [],
   "source": [
    "training_data = training_data.iloc[:, 1].values"
   ]
  },
  {
   "cell_type": "code",
   "execution_count": 4,
   "id": "6960972c",
   "metadata": {},
   "outputs": [],
   "source": [
    "scaler = MinMaxScaler()"
   ]
  },
  {
   "cell_type": "code",
   "execution_count": 5,
   "id": "d4d89f2a",
   "metadata": {},
   "outputs": [],
   "source": [
    "# 1D training_data in coverted to 2D and values are scaled between 0 and 1\n",
    "training_data = scaler.fit_transform(training_data.reshape(-1, 1))"
   ]
  },
  {
   "cell_type": "code",
   "execution_count": 6,
   "id": "c6b435cd",
   "metadata": {},
   "outputs": [],
   "source": [
    "x_training_data = []\n",
    "y_training_data =[]"
   ]
  },
  {
   "cell_type": "code",
   "execution_count": 7,
   "id": "058d05e4",
   "metadata": {},
   "outputs": [],
   "source": [
    "# len of training data = 1258, here for X and y train 1218 data is taken for training\n",
    "for i in range(40, len(training_data)):\n",
    "    x_training_data.append(training_data[i-40:i, 0])\n",
    "    y_training_data.append(training_data[i, 0])"
   ]
  },
  {
   "cell_type": "code",
   "execution_count": 8,
   "id": "03b7e9d5",
   "metadata": {},
   "outputs": [],
   "source": [
    "# Here list type is changed into numpy array\n",
    "x_training_data = np.array(x_training_data)\n",
    "y_training_data = np.array(y_training_data)"
   ]
  },
  {
   "cell_type": "code",
   "execution_count": 9,
   "id": "cc40a294",
   "metadata": {},
   "outputs": [],
   "source": [
    "# By reshaping training data is converted from 2D to 3D\n",
    "x_training_data = np.reshape(x_training_data, (x_training_data.shape[0], \n",
    "                                               x_training_data.shape[1], \n",
    "                                               1))"
   ]
  },
  {
   "cell_type": "code",
   "execution_count": 10,
   "id": "f3d2de6d",
   "metadata": {},
   "outputs": [],
   "source": [
    "# Building RNN starts from here\n",
    "rnn = Sequential()"
   ]
  },
  {
   "cell_type": "code",
   "execution_count": 11,
   "id": "1d69032b",
   "metadata": {},
   "outputs": [],
   "source": [
    "# LSTM layer\n",
    "rnn.add(LSTM(units = 45, return_sequences = True, input_shape = (x_training_data.shape[1], 1), activation='tanh'))\n",
    "rnn.add(Dropout(0.2))\n",
    "rnn.add(LSTM(units = 45, return_sequences = True, activation='tanh'))\n",
    "rnn.add(Dropout(0.2))\n",
    "rnn.add(LSTM(units = 45, return_sequences = True, activation='tanh'))\n",
    "rnn.add(Dropout(0.2))\n",
    "rnn.add(LSTM(units = 45))\n",
    "rnn.add(Dropout(0.2))"
   ]
  },
  {
   "cell_type": "code",
   "execution_count": 12,
   "id": "03486ba5",
   "metadata": {},
   "outputs": [],
   "source": [
    "# Output layer\n",
    "rnn.add(Dense(units=1))"
   ]
  },
  {
   "cell_type": "code",
   "execution_count": 13,
   "id": "2518c677",
   "metadata": {},
   "outputs": [],
   "source": [
    "# Compiling Our RNN\n",
    "rnn.compile(optimizer = 'adam', loss = 'mean_squared_error')"
   ]
  },
  {
   "cell_type": "code",
   "execution_count": 14,
   "id": "08b3747c",
   "metadata": {},
   "outputs": [
    {
     "name": "stdout",
     "output_type": "stream",
     "text": [
      "Epoch 1/100\n",
      "39/39 [==============================] - 10s 40ms/step - loss: 0.0464\n",
      "Epoch 2/100\n",
      "39/39 [==============================] - 1s 37ms/step - loss: 0.0072\n",
      "Epoch 3/100\n",
      "39/39 [==============================] - 1s 36ms/step - loss: 0.0067\n",
      "Epoch 4/100\n",
      "39/39 [==============================] - 1s 35ms/step - loss: 0.0063\n",
      "Epoch 5/100\n",
      "39/39 [==============================] - 1s 34ms/step - loss: 0.0059\n",
      "Epoch 6/100\n",
      "39/39 [==============================] - 1s 34ms/step - loss: 0.0053\n",
      "Epoch 7/100\n",
      "39/39 [==============================] - 1s 33ms/step - loss: 0.0052\n",
      "Epoch 8/100\n",
      "39/39 [==============================] - 1s 38ms/step - loss: 0.0051\n",
      "Epoch 9/100\n",
      "39/39 [==============================] - 2s 39ms/step - loss: 0.0061\n",
      "Epoch 10/100\n",
      "39/39 [==============================] - 1s 34ms/step - loss: 0.0050\n",
      "Epoch 11/100\n",
      "39/39 [==============================] - 1s 37ms/step - loss: 0.0056\n",
      "Epoch 12/100\n",
      "39/39 [==============================] - 1s 35ms/step - loss: 0.0046\n",
      "Epoch 13/100\n",
      "39/39 [==============================] - 1s 37ms/step - loss: 0.0043\n",
      "Epoch 14/100\n",
      "39/39 [==============================] - 1s 36ms/step - loss: 0.0048\n",
      "Epoch 15/100\n",
      "39/39 [==============================] - 2s 43ms/step - loss: 0.0048\n",
      "Epoch 16/100\n",
      "39/39 [==============================] - 1s 34ms/step - loss: 0.0051\n",
      "Epoch 17/100\n",
      "39/39 [==============================] - 1s 34ms/step - loss: 0.0041\n",
      "Epoch 18/100\n",
      "39/39 [==============================] - 1s 35ms/step - loss: 0.0040\n",
      "Epoch 19/100\n",
      "39/39 [==============================] - 2s 41ms/step - loss: 0.0040\n",
      "Epoch 20/100\n",
      "39/39 [==============================] - 2s 41ms/step - loss: 0.0042\n",
      "Epoch 21/100\n",
      "39/39 [==============================] - 1s 37ms/step - loss: 0.0044\n",
      "Epoch 22/100\n",
      "39/39 [==============================] - 1s 35ms/step - loss: 0.0043\n",
      "Epoch 23/100\n",
      "39/39 [==============================] - 1s 37ms/step - loss: 0.0039\n",
      "Epoch 24/100\n",
      "39/39 [==============================] - 1s 38ms/step - loss: 0.0040\n",
      "Epoch 25/100\n",
      "39/39 [==============================] - 1s 34ms/step - loss: 0.0040\n",
      "Epoch 26/100\n",
      "39/39 [==============================] - 1s 34ms/step - loss: 0.0035\n",
      "Epoch 27/100\n",
      "39/39 [==============================] - 1s 34ms/step - loss: 0.0045\n",
      "Epoch 28/100\n",
      "39/39 [==============================] - 1s 37ms/step - loss: 0.0037\n",
      "Epoch 29/100\n",
      "39/39 [==============================] - 1s 35ms/step - loss: 0.0038\n",
      "Epoch 30/100\n",
      "39/39 [==============================] - 2s 39ms/step - loss: 0.0040\n",
      "Epoch 31/100\n",
      "39/39 [==============================] - 2s 41ms/step - loss: 0.0038\n",
      "Epoch 32/100\n",
      "39/39 [==============================] - 1s 36ms/step - loss: 0.0038\n",
      "Epoch 33/100\n",
      "39/39 [==============================] - 1s 38ms/step - loss: 0.0035\n",
      "Epoch 34/100\n",
      "39/39 [==============================] - 1s 35ms/step - loss: 0.0036\n",
      "Epoch 35/100\n",
      "39/39 [==============================] - 2s 40ms/step - loss: 0.0034\n",
      "Epoch 36/100\n",
      "39/39 [==============================] - 2s 38ms/step - loss: 0.0043\n",
      "Epoch 37/100\n",
      "39/39 [==============================] - 1s 35ms/step - loss: 0.0032\n",
      "Epoch 38/100\n",
      "39/39 [==============================] - 1s 37ms/step - loss: 0.0040\n",
      "Epoch 39/100\n",
      "39/39 [==============================] - 1s 36ms/step - loss: 0.0035\n",
      "Epoch 40/100\n",
      "39/39 [==============================] - 1s 34ms/step - loss: 0.0038\n",
      "Epoch 41/100\n",
      "39/39 [==============================] - 2s 39ms/step - loss: 0.0031\n",
      "Epoch 42/100\n",
      "39/39 [==============================] - 2s 43ms/step - loss: 0.0033\n",
      "Epoch 43/100\n",
      "39/39 [==============================] - 1s 37ms/step - loss: 0.0028\n",
      "Epoch 44/100\n",
      "39/39 [==============================] - 1s 38ms/step - loss: 0.0029\n",
      "Epoch 45/100\n",
      "39/39 [==============================] - 1s 36ms/step - loss: 0.0031\n",
      "Epoch 46/100\n",
      "39/39 [==============================] - 1s 37ms/step - loss: 0.0028\n",
      "Epoch 47/100\n",
      "39/39 [==============================] - 2s 41ms/step - loss: 0.0029\n",
      "Epoch 48/100\n",
      "39/39 [==============================] - 1s 35ms/step - loss: 0.0028\n",
      "Epoch 49/100\n",
      "39/39 [==============================] - 1s 33ms/step - loss: 0.0028\n",
      "Epoch 50/100\n",
      "39/39 [==============================] - 1s 33ms/step - loss: 0.0027\n",
      "Epoch 51/100\n",
      "39/39 [==============================] - 1s 33ms/step - loss: 0.0027\n",
      "Epoch 52/100\n",
      "39/39 [==============================] - 1s 38ms/step - loss: 0.0032\n",
      "Epoch 53/100\n",
      "39/39 [==============================] - 2s 38ms/step - loss: 0.0027\n",
      "Epoch 54/100\n",
      "39/39 [==============================] - 1s 35ms/step - loss: 0.0026\n",
      "Epoch 55/100\n",
      "39/39 [==============================] - 1s 37ms/step - loss: 0.0026\n",
      "Epoch 56/100\n",
      "39/39 [==============================] - 1s 37ms/step - loss: 0.0026\n",
      "Epoch 57/100\n",
      "39/39 [==============================] - 1s 38ms/step - loss: 0.0026\n",
      "Epoch 58/100\n",
      "39/39 [==============================] - 1s 36ms/step - loss: 0.0027\n",
      "Epoch 59/100\n",
      "39/39 [==============================] - 1s 37ms/step - loss: 0.0027\n",
      "Epoch 60/100\n",
      "39/39 [==============================] - 1s 37ms/step - loss: 0.0024\n",
      "Epoch 61/100\n",
      "39/39 [==============================] - 1s 34ms/step - loss: 0.0023\n",
      "Epoch 62/100\n",
      "39/39 [==============================] - 1s 37ms/step - loss: 0.0024\n",
      "Epoch 63/100\n",
      "39/39 [==============================] - 1s 37ms/step - loss: 0.0027\n",
      "Epoch 64/100\n",
      "39/39 [==============================] - 2s 42ms/step - loss: 0.0024\n",
      "Epoch 65/100\n",
      "39/39 [==============================] - 1s 37ms/step - loss: 0.0022\n",
      "Epoch 66/100\n",
      "39/39 [==============================] - 1s 36ms/step - loss: 0.0022\n",
      "Epoch 67/100\n",
      "39/39 [==============================] - 1s 38ms/step - loss: 0.0027\n",
      "Epoch 68/100\n",
      "39/39 [==============================] - 1s 34ms/step - loss: 0.0023\n",
      "Epoch 69/100\n",
      "39/39 [==============================] - 1s 36ms/step - loss: 0.0022\n",
      "Epoch 70/100\n",
      "39/39 [==============================] - 1s 35ms/step - loss: 0.0022\n",
      "Epoch 71/100\n",
      "39/39 [==============================] - 1s 34ms/step - loss: 0.0022\n",
      "Epoch 72/100\n",
      "39/39 [==============================] - 1s 33ms/step - loss: 0.0021\n",
      "Epoch 73/100\n",
      "39/39 [==============================] - 1s 37ms/step - loss: 0.0020\n",
      "Epoch 74/100\n",
      "39/39 [==============================] - 1s 35ms/step - loss: 0.0023\n",
      "Epoch 75/100\n",
      "39/39 [==============================] - 2s 41ms/step - loss: 0.0022\n",
      "Epoch 76/100\n",
      "39/39 [==============================] - 1s 38ms/step - loss: 0.0020\n",
      "Epoch 77/100\n",
      "39/39 [==============================] - 1s 36ms/step - loss: 0.0020\n",
      "Epoch 78/100\n",
      "39/39 [==============================] - 1s 34ms/step - loss: 0.0020\n",
      "Epoch 79/100\n",
      "39/39 [==============================] - 1s 34ms/step - loss: 0.0021\n",
      "Epoch 80/100\n",
      "39/39 [==============================] - 1s 34ms/step - loss: 0.0020\n",
      "Epoch 81/100\n",
      "39/39 [==============================] - 1s 33ms/step - loss: 0.0020\n",
      "Epoch 82/100\n",
      "39/39 [==============================] - 1s 36ms/step - loss: 0.0019\n",
      "Epoch 83/100\n",
      "39/39 [==============================] - 1s 37ms/step - loss: 0.0019\n",
      "Epoch 84/100\n",
      "39/39 [==============================] - 1s 37ms/step - loss: 0.0019\n",
      "Epoch 85/100\n",
      "39/39 [==============================] - 1s 34ms/step - loss: 0.0018\n",
      "Epoch 86/100\n",
      "39/39 [==============================] - 1s 36ms/step - loss: 0.0019\n",
      "Epoch 87/100\n",
      "39/39 [==============================] - 2s 42ms/step - loss: 0.0017\n",
      "Epoch 88/100\n",
      "39/39 [==============================] - 1s 35ms/step - loss: 0.0023\n",
      "Epoch 89/100\n",
      "39/39 [==============================] - 1s 34ms/step - loss: 0.0017\n",
      "Epoch 90/100\n",
      "39/39 [==============================] - 1s 37ms/step - loss: 0.0018\n",
      "Epoch 91/100\n",
      "39/39 [==============================] - 1s 33ms/step - loss: 0.0016\n",
      "Epoch 92/100\n",
      "39/39 [==============================] - 1s 33ms/step - loss: 0.0017\n",
      "Epoch 93/100\n",
      "39/39 [==============================] - 1s 37ms/step - loss: 0.0017\n",
      "Epoch 94/100\n",
      "39/39 [==============================] - 1s 34ms/step - loss: 0.0018\n",
      "Epoch 95/100\n",
      "39/39 [==============================] - 1s 38ms/step - loss: 0.0017\n",
      "Epoch 96/100\n",
      "39/39 [==============================] - 1s 33ms/step - loss: 0.0017\n",
      "Epoch 97/100\n",
      "39/39 [==============================] - 1s 34ms/step - loss: 0.0016\n",
      "Epoch 98/100\n",
      "39/39 [==============================] - 2s 41ms/step - loss: 0.0017\n",
      "Epoch 99/100\n",
      "39/39 [==============================] - 1s 38ms/step - loss: 0.0015\n",
      "Epoch 100/100\n",
      "39/39 [==============================] - 1s 34ms/step - loss: 0.0018\n"
     ]
    },
    {
     "data": {
      "text/plain": [
       "<keras.callbacks.History at 0x1df3083dd30>"
      ]
     },
     "execution_count": 14,
     "metadata": {},
     "output_type": "execute_result"
    }
   ],
   "source": [
    "# Fitting RNN on training set\n",
    "rnn.fit(x_training_data, y_training_data, epochs = 100, batch_size = 32)"
   ]
  },
  {
   "cell_type": "code",
   "execution_count": 15,
   "id": "37accfa1",
   "metadata": {},
   "outputs": [],
   "source": [
    "# Importing our test data set\n",
    "test_data = pd.read_csv('FB_test_data.csv')\n",
    "test_data = test_data.iloc[:, 1].values"
   ]
  },
  {
   "cell_type": "code",
   "execution_count": 16,
   "id": "49de3f22",
   "metadata": {},
   "outputs": [],
   "source": [
    "# Since we need 40 data for prediction but test data has 21 values, so we will concat train and test data to get 40 values\n",
    "\n",
    "unscaled_training_data = pd.read_csv('FB_training_data.csv')\n",
    "unscaled_test_data = pd.read_csv('FB_test_data.csv')"
   ]
  },
  {
   "cell_type": "code",
   "execution_count": 17,
   "id": "50ce150b",
   "metadata": {},
   "outputs": [],
   "source": [
    "# Concatination takes place\n",
    "all_data = pd.concat((unscaled_training_data['Open'], unscaled_test_data['Open']), axis = 0)"
   ]
  },
  {
   "cell_type": "code",
   "execution_count": 18,
   "id": "c0a4ae14",
   "metadata": {},
   "outputs": [],
   "source": [
    "x_test_data = all_data[len(all_data) - len(test_data) - 40:].values"
   ]
  },
  {
   "cell_type": "code",
   "execution_count": 19,
   "id": "e2a94cd9",
   "metadata": {},
   "outputs": [],
   "source": [
    "x_test_data = np.reshape(x_test_data, (-1, 1))"
   ]
  },
  {
   "cell_type": "code",
   "execution_count": 20,
   "id": "92b7bcae",
   "metadata": {},
   "outputs": [],
   "source": [
    "# Scaling our test data\n",
    "x_test_data = scaler.transform(x_test_data)"
   ]
  },
  {
   "cell_type": "code",
   "execution_count": 21,
   "id": "9dc48823",
   "metadata": {},
   "outputs": [],
   "source": [
    "# Grouping our test data\n",
    "final_x_test_data = []"
   ]
  },
  {
   "cell_type": "code",
   "execution_count": 22,
   "id": "f531b8a6",
   "metadata": {},
   "outputs": [],
   "source": [
    "for i in range(40, len(x_test_data)):\n",
    "\n",
    "    final_x_test_data.append(x_test_data[i-40:i, 0])"
   ]
  },
  {
   "cell_type": "code",
   "execution_count": 23,
   "id": "e9afcf4c",
   "metadata": {},
   "outputs": [],
   "source": [
    "final_x_test_data = np.array(final_x_test_data)"
   ]
  },
  {
   "cell_type": "code",
   "execution_count": 24,
   "id": "05087092",
   "metadata": {},
   "outputs": [],
   "source": [
    "# Reshaping takes place\n",
    "final_x_test_data = np.reshape(final_x_test_data, (final_x_test_data.shape[0],\n",
    "                                               final_x_test_data.shape[1],\n",
    "                                               1))"
   ]
  },
  {
   "cell_type": "code",
   "execution_count": 25,
   "id": "ed02a7ec",
   "metadata": {},
   "outputs": [
    {
     "name": "stdout",
     "output_type": "stream",
     "text": [
      "1/1 [==============================] - 2s 2s/step\n"
     ]
    }
   ],
   "source": [
    "# Making predictions\n",
    "predictions = rnn.predict(final_x_test_data)"
   ]
  },
  {
   "cell_type": "code",
   "execution_count": 26,
   "id": "c83a1d3b",
   "metadata": {},
   "outputs": [
    {
     "data": {
      "text/plain": [
       "[<matplotlib.lines.Line2D at 0x1df3d793e50>]"
      ]
     },
     "execution_count": 26,
     "metadata": {},
     "output_type": "execute_result"
    },
    {
     "data": {
      "image/png": "[encoded data removed]",
      "text/plain": [
       "<Figure size 432x288 with 1 Axes>"
      ]
     },
     "metadata": {
      "needs_background": "light"
     },
     "output_type": "display_data"
    }
   ],
   "source": [
    "# Unscaling prediction\n",
    "unscaled_predictions = scaler.inverse_transform(predictions)\n",
    "plt.plot(unscaled_predictions)"
   ]
  },
  {
   "cell_type": "code",
   "execution_count": 27,
   "id": "78f410e7",
   "metadata": {},
   "outputs": [
    {
     "data": {
      "text/plain": [
       "Text(0.5, 1.0, 'Facebook Stock Price Predictions')"
      ]
     },
     "execution_count": 27,
     "metadata": {},
     "output_type": "execute_result"
    },
    {
     "data": {
      "image/png": "[encoded data removed]",
      "text/plain": [
       "<Figure size 432x288 with 1 Axes>"
      ]
     },
     "metadata": {
      "needs_background": "light"
     },
     "output_type": "display_data"
    }
   ],
   "source": [
    "plt.plot(unscaled_predictions, color = 'Red', label = \"Predictions\")\n",
    "plt.plot(test_data, color = 'Green', label = \"Real Data\")\n",
    "plt.title('Facebook Stock Price Predictions')"
   ]
  }
 ],
 "metadata": {
  "kernelspec": {
   "display_name": "Python 3 (ipykernel)",
   "language": "python",
   "name": "python3"
  },
  "language_info": {
   "codemirror_mode": {
    "name": "ipython",
    "version": 3
   },
   "file_extension": ".py",
   "mimetype": "text/x-python",
   "name": "python",
   "nbconvert_exporter": "python",
   "pygments_lexer": "ipython3",
   "version": "3.9.12"
  }
 },
 "nbformat": 4,
 "nbformat_minor": 5
}
